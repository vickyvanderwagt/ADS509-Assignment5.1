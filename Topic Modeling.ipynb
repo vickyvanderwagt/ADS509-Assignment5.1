{
 "cells": [
  {
   "cell_type": "markdown",
   "id": "fd4560ae-1e01-4f7b-9c10-61b0913eecbd",
   "metadata": {},
   "source": [
    "### Vicky van der Wagt"
   ]
  },
  {
   "attachments": {},
   "cell_type": "markdown",
   "id": "bce2bb89",
   "metadata": {},
   "source": [
    "# ADS 509 Assignment 5.1: Topic Modeling\n",
    "\n",
    "This notebook holds Assignment 5.1 for Module 5 in ADS 509, Applied Text Mining. Work through this notebook, writing code and answering questions where required. \n",
    "\n",
    "In this assignment you will work with a categorical corpus that accompanies `nltk`. You will build the three types of topic models described in Chapter 8 of _Blueprints for Text Analytics using Python_: LDA, LDA, and LDA. You will compare these models to the true categories. \n"
   ]
  },
  {
   "attachments": {},
   "cell_type": "markdown",
   "id": "d87e2c06",
   "metadata": {},
   "source": [
    "## General Assignment Instructions\n",
    "\n",
    "These instructions are included in every assignment, to remind you of the coding standards for the class. Feel free to delete this cell after reading it. \n",
    "\n",
    "One sign of mature code is conforming to a style guide. We recommend the [Google Python Style Guide](https://google.github.io/styleguide/pyguide.html). If you use a different style guide, please include a cell with a link. \n",
    "\n",
    "Your code should be relatively easy-to-read, sensibly commented, and clean. Writing code is a messy process, so please be sure to edit your final submission. Remove any cells that are not needed or parts of cells that contain unnecessary code. Remove inessential `import` statements and make sure that all such statements are moved into the designated cell. \n",
    "\n",
    "Make use of non-code cells for written commentary. These cells should be grammatical and clearly written. In some of these cells you will have questions to answer. The questions will be marked by a \"Q:\" and will have a corresponding \"A:\" spot for you. *Make sure to answer every question marked with a `Q:` for full credit.* \n"
   ]
  },
  {
   "cell_type": "code",
   "execution_count": 3,
   "id": "a85bce08",
   "metadata": {},
   "outputs": [],
   "source": [
    "# These libraries may be useful to you\n",
    "\n",
    "#!pip install pyLDAvis==3.4.1 --user  #You need to restart the Kernel after installation.\n",
    "# You also need a Python version => 3.9.0\n",
    "from nltk.corpus import brown\n",
    "\n",
    "import numpy as np\n",
    "import pandas as pd\n",
    "from tqdm.auto import tqdm\n",
    "\n",
    "#import pyLDAvis\n",
    "#import pyLDAvis.lda_model\n",
    "#import pyLDAvis.gensim_models\n",
    "\n",
    "import spacy\n",
    "from sklearn.feature_extraction.text import TfidfVectorizer, CountVectorizer\n",
    "from sklearn.decomposition import NMF, TruncatedSVD, LatentDirichletAllocation\n",
    "\n",
    "from spacy.lang.en.stop_words import STOP_WORDS as stopwords\n",
    "import en_core_web_sm\n",
    "\n",
    "from collections import Counter, defaultdict\n",
    "\n",
    "nlp = en_core_web_sm.load()"
   ]
  },
  {
   "cell_type": "code",
   "execution_count": 6,
   "id": "f7b4f7be-65cf-4db7-bb6b-9d83cf19731c",
   "metadata": {},
   "outputs": [],
   "source": [
    "# add any additional libaries you need here\n",
    "#nltk.download('brown')\n",
    "\n",
    "import nltk\n",
    "import tabulate\n",
    "from sklearn.metrics import confusion_matrix\n",
    "import matplotlib.pyplot as plt\n",
    "import seaborn as sns\n",
    "from sklearn.metrics import classification_report\n",
    "from matplotlib.colors import LinearSegmentedColormap\n",
    "\n",
    "# define custom colormap for confusion matrices\n",
    "colors = [(1, 1, 1), (1, 0, 1)]  # White to hot pink\n",
    "custom_cmap = LinearSegmentedColormap.from_list('custom_cmap', colors)\n"
   ]
  },
  {
   "cell_type": "code",
   "execution_count": 7,
   "id": "494de237",
   "metadata": {},
   "outputs": [],
   "source": [
    "# This function comes from the BTAP repo.\n",
    "\n",
    "def display_topics(model, features, no_top_words=5):\n",
    "    for topic, words in enumerate(model.components_):\n",
    "        total = words.sum()\n",
    "        largest = words.argsort()[::-1] # invert sort order\n",
    "        print(\"\\nTopic %02d\" % topic)\n",
    "        for i in range(0, no_top_words):\n",
    "            print(\"  %s (%2.2f)\" % (features[largest[i]], abs(words[largest[i]]*100.0/total)))"
   ]
  },
  {
   "attachments": {},
   "cell_type": "markdown",
   "id": "a30a901c",
   "metadata": {},
   "source": [
    "## Getting to Know the Brown Corpus\n",
    "\n",
    "Let's spend a bit of time getting to know what's in the Brown corpus, our NLTK example of an \"overlapping\" corpus."
   ]
  },
  {
   "cell_type": "code",
   "execution_count": 8,
   "id": "457c59ed",
   "metadata": {},
   "outputs": [
    {
     "name": "stdout",
     "output_type": "stream",
     "text": [
      "For adventure we have 29 articles.\n",
      "For belles_lettres we have 75 articles.\n",
      "For editorial we have 27 articles.\n",
      "For fiction we have 29 articles.\n",
      "For government we have 30 articles.\n",
      "For hobbies we have 36 articles.\n",
      "For humor we have 9 articles.\n",
      "For learned we have 80 articles.\n",
      "For lore we have 48 articles.\n",
      "For mystery we have 24 articles.\n",
      "For news we have 44 articles.\n",
      "For religion we have 17 articles.\n",
      "For reviews we have 17 articles.\n",
      "For romance we have 29 articles.\n",
      "For science_fiction we have 6 articles.\n"
     ]
    }
   ],
   "source": [
    "# categories of articles in Brown corpus\n",
    "for category in brown.categories() :\n",
    "    print(f\"For {category} we have {len(brown.fileids(categories=category))} articles.\")"
   ]
  },
  {
   "attachments": {},
   "cell_type": "markdown",
   "id": "23fb133c",
   "metadata": {},
   "source": [
    "Let's create a dataframe of the articles in of hobbies, editorial, government, news, and romance."
   ]
  },
  {
   "cell_type": "code",
   "execution_count": 9,
   "id": "18f50b9d",
   "metadata": {},
   "outputs": [
    {
     "data": {
      "text/plain": [
       "(166, 3)"
      ]
     },
     "execution_count": 9,
     "metadata": {},
     "output_type": "execute_result"
    }
   ],
   "source": [
    "categories = ['editorial','government','news','romance','hobbies'] \n",
    "\n",
    "category_list = []\n",
    "file_ids = []\n",
    "texts = []\n",
    "\n",
    "for category in categories : \n",
    "    for file_id in brown.fileids(categories=category) :\n",
    "        \n",
    "        # build some lists for a dataframe\n",
    "        category_list.append(category)\n",
    "        file_ids.append(file_id)\n",
    "        \n",
    "        text = brown.words(fileids=file_id)\n",
    "        texts.append(\" \".join(text))\n",
    "\n",
    "        \n",
    "        \n",
    "df = pd.DataFrame()\n",
    "df['category'] = category_list\n",
    "df['id'] = file_ids\n",
    "df['text'] = texts \n",
    "\n",
    "df.shape"
   ]
  },
  {
   "cell_type": "code",
   "execution_count": 10,
   "id": "586f47de",
   "metadata": {},
   "outputs": [],
   "source": [
    "# Let's add some helpful columns on the df\n",
    "df['char_len'] = df['text'].apply(len)\n",
    "df['word_len'] = df['text'].apply(lambda x: len(x.split()))\n"
   ]
  },
  {
   "cell_type": "code",
   "execution_count": 11,
   "id": "2128fd2d",
   "metadata": {},
   "outputs": [
    {
     "data": {
      "text/plain": [
       "<AxesSubplot: xlabel='category'>"
      ]
     },
     "execution_count": 11,
     "metadata": {},
     "output_type": "execute_result"
    },
    {
     "data": {
      "image/png": "[encoded data removed]",
      "text/plain": [
       "<Figure size 1000x600 with 1 Axes>"
      ]
     },
     "metadata": {},
     "output_type": "display_data"
    }
   ],
   "source": [
    "%matplotlib inline\n",
    "df.groupby('category').agg({'word_len': 'mean'}).plot.bar(figsize=(10,6))"
   ]
  },
  {
   "attachments": {},
   "cell_type": "markdown",
   "id": "554ffeb5",
   "metadata": {},
   "source": [
    "Now do our TF-IDF and Count vectorizations."
   ]
  },
  {
   "cell_type": "code",
   "execution_count": 12,
   "id": "21a7d247",
   "metadata": {},
   "outputs": [
    {
     "name": "stderr",
     "output_type": "stream",
     "text": [
      "/Users/vicky/opt/anaconda3/lib/python3.8/site-packages/sklearn/feature_extraction/text.py:409: UserWarning: Your stop_words may be inconsistent with your preprocessing. Tokenizing the stop words generated tokens ['ll', 've'] not in stop_words.\n",
      "  warnings.warn(\n"
     ]
    },
    {
     "data": {
      "text/plain": [
       "(166, 4941)"
      ]
     },
     "execution_count": 12,
     "metadata": {},
     "output_type": "execute_result"
    }
   ],
   "source": [
    "count_text_vectorizer = CountVectorizer(stop_words=list(stopwords), min_df=5, max_df=0.7)\n",
    "count_text_vectors = count_text_vectorizer.fit_transform(df[\"text\"])\n",
    "count_text_vectors.shape"
   ]
  },
  {
   "cell_type": "code",
   "execution_count": 13,
   "id": "875deba9",
   "metadata": {},
   "outputs": [
    {
     "data": {
      "text/plain": [
       "(166, 4941)"
      ]
     },
     "execution_count": 13,
     "metadata": {},
     "output_type": "execute_result"
    }
   ],
   "source": [
    "tfidf_text_vectorizer = TfidfVectorizer(stop_words=list(stopwords), min_df=5, max_df=0.7)\n",
    "tfidf_text_vectors = tfidf_text_vectorizer.fit_transform(df['text'])\n",
    "tfidf_text_vectors.shape"
   ]
  },
  {
   "attachments": {},
   "cell_type": "markdown",
   "id": "a1062b21",
   "metadata": {},
   "source": [
    "Q: What do the two data frames `count_text_vectors` and `tfidf_text_vectors` hold? \n",
    "\n",
    "A: \n",
    "* count_text_vectors: holds the count of each word\n",
    "* tfidf_text_vector: holds the tfidf(term frequency-inverse document frequency) values. These values are the number of time that a term appears in a document, over the total nmber of terms. Therefore, they give insight to the importance of each word"
   ]
  },
  {
   "attachments": {},
   "cell_type": "markdown",
   "id": "f77c3f94",
   "metadata": {},
   "source": [
    "## Fitting a Non-Negative Matrix Factorization Model\n",
    "\n",
    "In this section the code to fit a five-topic LDA model has already been written. This code comes directly from the [BTAP repo](https://github.com/blueprints-for-text-analytics-python/blueprints-text), which will help you tremendously in the coming sections. "
   ]
  },
  {
   "cell_type": "code",
   "execution_count": 14,
   "id": "d28745a3",
   "metadata": {},
   "outputs": [],
   "source": [
    "NMF_text_model = NMF(n_components=5, random_state=314)\n",
    "W_text_matrix = NMF_text_model.fit_transform(tfidf_text_vectors)\n",
    "H_text_matrix = NMF_text_model.components_"
   ]
  },
  {
   "cell_type": "code",
   "execution_count": 15,
   "id": "a67185e7",
   "metadata": {},
   "outputs": [
    {
     "name": "stdout",
     "output_type": "stream",
     "text": [
      "\n",
      "Topic 00\n",
      "  mr (0.51)\n",
      "  president (0.45)\n",
      "  kennedy (0.43)\n",
      "  united (0.42)\n",
      "  khrushchev (0.40)\n",
      "\n",
      "Topic 01\n",
      "  said (0.88)\n",
      "  didn (0.46)\n",
      "  ll (0.45)\n",
      "  thought (0.42)\n",
      "  man (0.37)\n",
      "\n",
      "Topic 02\n",
      "  state (0.39)\n",
      "  development (0.36)\n",
      "  tax (0.33)\n",
      "  sales (0.30)\n",
      "  program (0.25)\n",
      "\n",
      "Topic 03\n",
      "  mrs (2.61)\n",
      "  mr (0.78)\n",
      "  said (0.63)\n",
      "  miss (0.52)\n",
      "  car (0.51)\n",
      "\n",
      "Topic 04\n",
      "  game (1.02)\n",
      "  league (0.74)\n",
      "  ball (0.72)\n",
      "  baseball (0.71)\n",
      "  team (0.66)\n"
     ]
    }
   ],
   "source": [
    "display_topics(NMF_text_model, tfidf_text_vectorizer.get_feature_names_out())"
   ]
  },
  {
   "attachments": {},
   "cell_type": "markdown",
   "id": "fee51e9b",
   "metadata": {},
   "source": [
    "Now some work for you to do. Compare the LDA categorization to the original categories from the Brown Corpus.\n",
    "\n",
    "We are interested in the extent to which our LDA categorization agrees or disagrees with the original categories in the corpus. For each topic in your LDA model, tally the Brown categories and interpret the results. \n"
   ]
  },
  {
   "cell_type": "markdown",
   "id": "d447cf0d-40e0-41e3-8ccc-9b6a4d510494",
   "metadata": {},
   "source": [
    "**Add LDA predicted labels as a column in our dataframe**"
   ]
  },
  {
   "cell_type": "code",
   "execution_count": 16,
   "id": "06d2dc9e-cde9-4198-adfa-86e9f2ff0023",
   "metadata": {},
   "outputs": [
    {
     "ename": "KeyError",
     "evalue": "'nmf_predicted_category'",
     "output_type": "error",
     "traceback": [
      "\u001b[0;31m---------------------------------------------------------------------------\u001b[0m",
      "\u001b[0;31mKeyError\u001b[0m                                  Traceback (most recent call last)",
      "File \u001b[0;32m~/opt/anaconda3/lib/python3.8/site-packages/pandas/core/indexes/base.py:3802\u001b[0m, in \u001b[0;36mIndex.get_loc\u001b[0;34m(self, key, method, tolerance)\u001b[0m\n\u001b[1;32m   3801\u001b[0m \u001b[38;5;28;01mtry\u001b[39;00m:\n\u001b[0;32m-> 3802\u001b[0m     \u001b[38;5;28;01mreturn\u001b[39;00m \u001b[38;5;28;43mself\u001b[39;49m\u001b[38;5;241;43m.\u001b[39;49m\u001b[43m_engine\u001b[49m\u001b[38;5;241;43m.\u001b[39;49m\u001b[43mget_loc\u001b[49m\u001b[43m(\u001b[49m\u001b[43mcasted_key\u001b[49m\u001b[43m)\u001b[49m\n\u001b[1;32m   3803\u001b[0m \u001b[38;5;28;01mexcept\u001b[39;00m \u001b[38;5;167;01mKeyError\u001b[39;00m \u001b[38;5;28;01mas\u001b[39;00m err:\n",
      "File \u001b[0;32m~/opt/anaconda3/lib/python3.8/site-packages/pandas/_libs/index.pyx:138\u001b[0m, in \u001b[0;36mpandas._libs.index.IndexEngine.get_loc\u001b[0;34m()\u001b[0m\n",
      "File \u001b[0;32m~/opt/anaconda3/lib/python3.8/site-packages/pandas/_libs/index.pyx:165\u001b[0m, in \u001b[0;36mpandas._libs.index.IndexEngine.get_loc\u001b[0;34m()\u001b[0m\n",
      "File \u001b[0;32mpandas/_libs/hashtable_class_helper.pxi:5745\u001b[0m, in \u001b[0;36mpandas._libs.hashtable.PyObjectHashTable.get_item\u001b[0;34m()\u001b[0m\n",
      "File \u001b[0;32mpandas/_libs/hashtable_class_helper.pxi:5753\u001b[0m, in \u001b[0;36mpandas._libs.hashtable.PyObjectHashTable.get_item\u001b[0;34m()\u001b[0m\n",
      "\u001b[0;31mKeyError\u001b[0m: 'nmf_predicted_category'",
      "\nThe above exception was the direct cause of the following exception:\n",
      "\u001b[0;31mKeyError\u001b[0m                                  Traceback (most recent call last)",
      "Cell \u001b[0;32mIn[16], line 17\u001b[0m\n\u001b[1;32m     15\u001b[0m \u001b[38;5;66;03m# get unique category counts for actual and nmf predicted categories\u001b[39;00m\n\u001b[1;32m     16\u001b[0m category_counts \u001b[38;5;241m=\u001b[39m df[\u001b[38;5;124m'\u001b[39m\u001b[38;5;124mcategory\u001b[39m\u001b[38;5;124m'\u001b[39m]\u001b[38;5;241m.\u001b[39mvalue_counts()\n\u001b[0;32m---> 17\u001b[0m nmf_predicted_category_counts \u001b[38;5;241m=\u001b[39m \u001b[43mdf\u001b[49m\u001b[43m[\u001b[49m\u001b[38;5;124;43m'\u001b[39;49m\u001b[38;5;124;43mnmf_predicted_category\u001b[39;49m\u001b[38;5;124;43m'\u001b[39;49m\u001b[43m]\u001b[49m\u001b[38;5;241m.\u001b[39mvalue_counts()\n\u001b[1;32m     19\u001b[0m nmf_actual_counts \u001b[38;5;241m=\u001b[39m pd\u001b[38;5;241m.\u001b[39mDataFrame({\n\u001b[1;32m     20\u001b[0m     \u001b[38;5;124m'\u001b[39m\u001b[38;5;124mcategory\u001b[39m\u001b[38;5;124m'\u001b[39m: category_counts,\n\u001b[1;32m     21\u001b[0m     \u001b[38;5;124m'\u001b[39m\u001b[38;5;124mnmf_predicted_category\u001b[39m\u001b[38;5;124m'\u001b[39m: nmf_predicted_category_counts\n\u001b[1;32m     22\u001b[0m })\n\u001b[1;32m     24\u001b[0m \u001b[38;5;66;03m# investigate value counts of actual and distributed\u001b[39;00m\n",
      "File \u001b[0;32m~/opt/anaconda3/lib/python3.8/site-packages/pandas/core/frame.py:3807\u001b[0m, in \u001b[0;36mDataFrame.__getitem__\u001b[0;34m(self, key)\u001b[0m\n\u001b[1;32m   3805\u001b[0m \u001b[38;5;28;01mif\u001b[39;00m \u001b[38;5;28mself\u001b[39m\u001b[38;5;241m.\u001b[39mcolumns\u001b[38;5;241m.\u001b[39mnlevels \u001b[38;5;241m>\u001b[39m \u001b[38;5;241m1\u001b[39m:\n\u001b[1;32m   3806\u001b[0m     \u001b[38;5;28;01mreturn\u001b[39;00m \u001b[38;5;28mself\u001b[39m\u001b[38;5;241m.\u001b[39m_getitem_multilevel(key)\n\u001b[0;32m-> 3807\u001b[0m indexer \u001b[38;5;241m=\u001b[39m \u001b[38;5;28;43mself\u001b[39;49m\u001b[38;5;241;43m.\u001b[39;49m\u001b[43mcolumns\u001b[49m\u001b[38;5;241;43m.\u001b[39;49m\u001b[43mget_loc\u001b[49m\u001b[43m(\u001b[49m\u001b[43mkey\u001b[49m\u001b[43m)\u001b[49m\n\u001b[1;32m   3808\u001b[0m \u001b[38;5;28;01mif\u001b[39;00m is_integer(indexer):\n\u001b[1;32m   3809\u001b[0m     indexer \u001b[38;5;241m=\u001b[39m [indexer]\n",
      "File \u001b[0;32m~/opt/anaconda3/lib/python3.8/site-packages/pandas/core/indexes/base.py:3804\u001b[0m, in \u001b[0;36mIndex.get_loc\u001b[0;34m(self, key, method, tolerance)\u001b[0m\n\u001b[1;32m   3802\u001b[0m     \u001b[38;5;28;01mreturn\u001b[39;00m \u001b[38;5;28mself\u001b[39m\u001b[38;5;241m.\u001b[39m_engine\u001b[38;5;241m.\u001b[39mget_loc(casted_key)\n\u001b[1;32m   3803\u001b[0m \u001b[38;5;28;01mexcept\u001b[39;00m \u001b[38;5;167;01mKeyError\u001b[39;00m \u001b[38;5;28;01mas\u001b[39;00m err:\n\u001b[0;32m-> 3804\u001b[0m     \u001b[38;5;28;01mraise\u001b[39;00m \u001b[38;5;167;01mKeyError\u001b[39;00m(key) \u001b[38;5;28;01mfrom\u001b[39;00m \u001b[38;5;21;01merr\u001b[39;00m\n\u001b[1;32m   3805\u001b[0m \u001b[38;5;28;01mexcept\u001b[39;00m \u001b[38;5;167;01mTypeError\u001b[39;00m:\n\u001b[1;32m   3806\u001b[0m     \u001b[38;5;66;03m# If we have a listlike key, _check_indexing_error will raise\u001b[39;00m\n\u001b[1;32m   3807\u001b[0m     \u001b[38;5;66;03m#  InvalidIndexError. Otherwise we fall through and re-raise\u001b[39;00m\n\u001b[1;32m   3808\u001b[0m     \u001b[38;5;66;03m#  the TypeError.\u001b[39;00m\n\u001b[1;32m   3809\u001b[0m     \u001b[38;5;28mself\u001b[39m\u001b[38;5;241m.\u001b[39m_check_indexing_error(key)\n",
      "\u001b[0;31mKeyError\u001b[0m: 'nmf_predicted_category'"
     ]
    }
   ],
   "source": [
    "# generate dictionary to map topics and categories\n",
    "topic_category_mapping = {\n",
    "    0: \"editorial\",\n",
    "    1: \"government\",\n",
    "    2: \"news\",\n",
    "    3: \"romance\",\n",
    "    4: \"hobbies\"\n",
    "}\n",
    "\n",
    "predicted_topics = W_text_matrix.argmax(axis=1)\n",
    "\n",
    "# create a new column in the df for the predicted categories\n",
    "df['NMF_predicted_category'] = [topic_category_mapping[idx] for idx in predicted_topics]\n",
    "\n",
    "# get unique category counts for actual and nmf predicted categories\n",
    "category_counts = df['category'].value_counts()\n",
    "nmf_predicted_category_counts = df['nmf_predicted_category'].value_counts()\n",
    "\n",
    "nmf_actual_counts = pd.DataFrame({\n",
    "    'category': category_counts,\n",
    "    'nmf_predicted_category': nmf_predicted_category_counts\n",
    "})\n",
    "\n",
    "# investigate value counts of actual and distributed\n",
    "nmf_actual_counts"
   ]
  },
  {
   "cell_type": "markdown",
   "id": "2a702178-52bd-4e71-931a-9f1a95fb86e6",
   "metadata": {},
   "source": [
    "**Model Evaluation - confusion matrix and classification report**"
   ]
  },
  {
   "cell_type": "code",
   "execution_count": null,
   "id": "853b6ad6-9563-4b25-b659-adfb2e60e391",
   "metadata": {},
   "outputs": [],
   "source": [
    "# extract actual and predicted results for comparison\n",
    "actual_category = df['category'].astype(str)\n",
    "nmf_predicted_category = df['nmf_predicted_category'].astype(str)\n",
    "\n",
    "# sort labels for our confusion matrix\n",
    "actual_labels_sorted = np.sort(actual_labels.unique())\n",
    "nmf_predicted_labels_sorted = np.sort(nmf_predicted_labels.unique())\n",
    "\n",
    "# generate confusion matrix, convert to dataframe for visualization\n",
    "conf_matrix = confusion_matrix(actual_category, nmf_predicted_category)\n",
    "conf_matrix_df = pd.DataFrame(conf_matrix, index=actual_labels_sorted, columns=nmf_predicted_labels_sorted)\n",
    "\n",
    "# plot confusion matrix\n",
    "conf_matrix_df['Total'] = conf_matrix_df.sum(axis=1)\n",
    "conf_matrix_df.loc['Total'] = conf_matrix_df.sum(axis=0)\n",
    "sns.heatmap(conf_matrix_df, annot=True, fmt='d', cmap=custom_cmap, cbar=False)\n",
    "plt.xlabel('nmf Predicted Category')\n",
    "plt.ylabel('Actual Category')\n",
    "plt.title('Confusion Matrix - nmf Model')\n",
    "plt.show()\n",
    "\n",
    "conf_matrix\n",
    "\n",
    "# generate classification report\n",
    "print(classification_report(actual_category, nmf_predicted_category))"
   ]
  },
  {
   "attachments": {},
   "cell_type": "markdown",
   "id": "f8d4e2bc",
   "metadata": {},
   "source": [
    "Q: How does your five-topic nmf model compare to the original Brown categories? \n",
    "\n",
    "A: Overall, the five-topic nmf model does not perform well overall. It attained an accuracy of 19% when compared with the actual category values. The best performance was observed in the editorial category.\n",
    "* Editorial: The 'editorial' group had the highest precision, recall, and f1-score. Out of 27 actual 'editorial' files, 20 were classified correctly\n",
    "* Government - The nmf model did not predict any 'government' category files correctly. Out of 30, 4 were predicted as editorial, and most were predicted as news.\n",
    "* Hobbies - The nmf model also did not perform well in the 'hobby' category; it predicted nearly all as news.\n",
    "* News - The nmf model predicted the highest number of files as news (65). However, only 11 of these were correct.\n",
    "* Romance - Similar to the 'government' category, the nmf model did not predict any of the files correct in the romance category. It predicted nearly all of them as 'news'."
   ]
  },
  {
   "attachments": {},
   "cell_type": "markdown",
   "id": "82e37cb5",
   "metadata": {},
   "source": [
    "## Fitting an LSA Model\n",
    "\n",
    "In this section, follow the example from the repository and fit an LSA model (called a \"TruncatedLSA\" in `sklearn`). Again fit a five-topic model and compare it to the actual categories in the Brown corpus. Use the TF-IDF vectors for your fit, as above. \n",
    "\n",
    "To be explicit, we are once again interested in the extent to which this LSA factorization agrees or disagrees with the original categories in the corpus. For each topic in your model, tally the Brown categories and interpret the results. \n"
   ]
  },
  {
   "cell_type": "code",
   "execution_count": 19,
   "id": "00b53d3d",
   "metadata": {},
   "outputs": [],
   "source": [
    "# Your code here\n",
    "LSA_para_model = TruncatedSVD(n_components = 5, random_state=42)\n",
    "W_LSA_para_matrix = LSA_para_model.fit_transform(tfidf_text_vectors)\n",
    "H_LSA_para_matrix = LSA_para_model.components_"
   ]
  },
  {
   "cell_type": "code",
   "execution_count": 20,
   "id": "371575ba-8225-4389-9d06-d07abc0b4225",
   "metadata": {},
   "outputs": [
    {
     "data": {
      "text/html": [
       "<div>\n",
       "<style scoped>\n",
       "    .dataframe tbody tr th:only-of-type {\n",
       "        vertical-align: middle;\n",
       "    }\n",
       "\n",
       "    .dataframe tbody tr th {\n",
       "        vertical-align: top;\n",
       "    }\n",
       "\n",
       "    .dataframe thead th {\n",
       "        text-align: right;\n",
       "    }\n",
       "</style>\n",
       "<table border=\"1\" class=\"dataframe\">\n",
       "  <thead>\n",
       "    <tr style=\"text-align: right;\">\n",
       "      <th></th>\n",
       "      <th>category</th>\n",
       "      <th>LSA_predicted_category</th>\n",
       "    </tr>\n",
       "  </thead>\n",
       "  <tbody>\n",
       "    <tr>\n",
       "      <th>editorial</th>\n",
       "      <td>27</td>\n",
       "      <td>148</td>\n",
       "    </tr>\n",
       "    <tr>\n",
       "      <th>government</th>\n",
       "      <td>30</td>\n",
       "      <td>8</td>\n",
       "    </tr>\n",
       "    <tr>\n",
       "      <th>hobbies</th>\n",
       "      <td>36</td>\n",
       "      <td>7</td>\n",
       "    </tr>\n",
       "    <tr>\n",
       "      <th>news</th>\n",
       "      <td>44</td>\n",
       "      <td>0</td>\n",
       "    </tr>\n",
       "    <tr>\n",
       "      <th>romance</th>\n",
       "      <td>29</td>\n",
       "      <td>3</td>\n",
       "    </tr>\n",
       "  </tbody>\n",
       "</table>\n",
       "</div>"
      ],
      "text/plain": [
       "            category  LSA_predicted_category\n",
       "editorial         27                     148\n",
       "government        30                       8\n",
       "hobbies           36                       7\n",
       "news              44                       0\n",
       "romance           29                       3"
      ]
     },
     "execution_count": 20,
     "metadata": {},
     "output_type": "execute_result"
    }
   ],
   "source": [
    "\n",
    "LSA_predicted_topics = W_LSA_para_matrix.argmax(axis=1)\n",
    "\n",
    "# create a new column in the df for the predicted categories\n",
    "df['LSA_predicted_category'] = [topic_category_mapping[idx] for idx in LSA_predicted_topics]\n",
    "\n",
    "# get unique category counts for actual and LSA predicted categories\n",
    "category_counts = df['category'].value_counts()\n",
    "LSA_predicted_category_counts = df['LSA_predicted_category'].value_counts()\n",
    "\n",
    "LSA_actual_counts = pd.DataFrame({\n",
    "    'category': category_counts,\n",
    "    'LSA_predicted_category': LSA_predicted_category_counts\n",
    "})\n",
    "\n",
    "# convert LSA prediction column to integer and fill null values with 0\n",
    "LSA_actual_counts['LSA_predicted_category'] = LSA_actual_counts['LSA_predicted_category'].fillna(0).astype(int)\n",
    "\n",
    "\n",
    "# investigate value counts of actual and distributed\n",
    "LSA_actual_counts"
   ]
  },
  {
   "cell_type": "code",
   "execution_count": 22,
   "id": "35a38aa9-2278-4be3-8aa0-3bacef7f1691",
   "metadata": {},
   "outputs": [
    {
     "data": {
      "image/png": "[encoded data removed]",
      "text/plain": [
       "<Figure size 640x480 with 1 Axes>"
      ]
     },
     "metadata": {},
     "output_type": "display_data"
    },
    {
     "name": "stdout",
     "output_type": "stream",
     "text": [
      "              precision    recall  f1-score   support\n",
      "\n",
      "   editorial       0.18      1.00      0.31        27\n",
      "  government       0.00      0.00      0.00        30\n",
      "     hobbies       0.00      0.00      0.00        36\n",
      "        news       0.00      0.00      0.00        44\n",
      "     romance       0.00      0.00      0.00        29\n",
      "\n",
      "    accuracy                           0.16       166\n",
      "   macro avg       0.04      0.20      0.06       166\n",
      "weighted avg       0.03      0.16      0.05       166\n",
      "\n"
     ]
    },
    {
     "name": "stderr",
     "output_type": "stream",
     "text": [
      "/Users/vicky/opt/anaconda3/lib/python3.8/site-packages/sklearn/metrics/_classification.py:1344: UndefinedMetricWarning: Precision and F-score are ill-defined and being set to 0.0 in labels with no predicted samples. Use `zero_division` parameter to control this behavior.\n",
      "  _warn_prf(average, modifier, msg_start, len(result))\n",
      "/Users/vicky/opt/anaconda3/lib/python3.8/site-packages/sklearn/metrics/_classification.py:1344: UndefinedMetricWarning: Precision and F-score are ill-defined and being set to 0.0 in labels with no predicted samples. Use `zero_division` parameter to control this behavior.\n",
      "  _warn_prf(average, modifier, msg_start, len(result))\n",
      "/Users/vicky/opt/anaconda3/lib/python3.8/site-packages/sklearn/metrics/_classification.py:1344: UndefinedMetricWarning: Precision and F-score are ill-defined and being set to 0.0 in labels with no predicted samples. Use `zero_division` parameter to control this behavior.\n",
      "  _warn_prf(average, modifier, msg_start, len(result))\n"
     ]
    }
   ],
   "source": [
    "# extract actual and predicted results for comparison\n",
    "actual_category = df['category'].astype(str)\n",
    "LSA_predicted_category = df['LSA_predicted_category'].astype(str)\n",
    "# sort labels for our confusion matrix\n",
    "actual_labels_sorted = np.sort(actual_category.unique())\n",
    "\n",
    "# generate confusion matrix, convert to dataframe for visualization\n",
    "conf_matrix = confusion_matrix(actual_category, LSA_predicted_category)\n",
    "conf_matrix_df = pd.DataFrame(conf_matrix, index=actual_labels_sorted, columns=actual_labels_sorted)\n",
    "\n",
    "# plot confusion matrix\n",
    "conf_matrix_df['Total'] = conf_matrix_df.sum(axis=1)\n",
    "conf_matrix_df.loc['Total'] = conf_matrix_df.sum(axis=0)\n",
    "sns.heatmap(conf_matrix_df, annot=True, fmt='d', cmap=custom_cmap, cbar=False)\n",
    "plt.xlabel('LSA Predicted Category')\n",
    "plt.ylabel('Actual Category')\n",
    "plt.title('Confusion Matrix - LSA Model')\n",
    "plt.show()\n",
    "\n",
    "conf_matrix\n",
    "\n",
    "# generate classification report\n",
    "print(classification_report(actual_category, LSA_predicted_category))"
   ]
  },
  {
   "attachments": {},
   "cell_type": "markdown",
   "id": "4d94d56f",
   "metadata": {},
   "source": [
    "Q: How does your five-topic LSA model compare to the original Brown categories? \n",
    "\n",
    "A: The LSA model performed very poorly compared to the original Brown categories, with an overall accuracy of 16%. This is worse than the NMF value as well. It predicted 89% of the files as 'editorial', when in actuality, only 16% of the files are 'editorial'."
   ]
  },
  {
   "cell_type": "code",
   "execution_count": 23,
   "id": "377a886e",
   "metadata": {},
   "outputs": [
    {
     "ename": "NameError",
     "evalue": "name 'svd_para_model' is not defined",
     "output_type": "error",
     "traceback": [
      "\u001b[0;31m---------------------------------------------------------------------------\u001b[0m",
      "\u001b[0;31mNameError\u001b[0m                                 Traceback (most recent call last)",
      "Cell \u001b[0;32mIn[23], line 2\u001b[0m\n\u001b[1;32m      1\u001b[0m \u001b[38;5;66;03m# call display_topics on your model\u001b[39;00m\n\u001b[0;32m----> 2\u001b[0m display_topics(\u001b[43msvd_para_model\u001b[49m, tfidf_text_vectorizer\u001b[38;5;241m.\u001b[39mget_feature_names_out())\n",
      "\u001b[0;31mNameError\u001b[0m: name 'svd_para_model' is not defined"
     ]
    }
   ],
   "source": [
    "# call display_topics on your model\n",
    "display_topics(svd_para_model, tfidf_text_vectorizer.get_feature_names_out())\n"
   ]
  },
  {
   "attachments": {},
   "cell_type": "markdown",
   "id": "ea8b280a",
   "metadata": {},
   "source": [
    "Q: What is your interpretation of the display topics output? \n",
    "\n",
    "A: There are some mutual high contributing words in topics. For instance, Topic 0, 2, and 3 all contain 'mrs'; this word was weighed the highest of all words for topics 2 and 3. Additionally, 'mr' was found in topics 0 and 2. The word 'game' was also found in topics 3 and 4. This shows that the topics overlap quite a bit, which likely contributed to the poor classification."
   ]
  },
  {
   "attachments": {},
   "cell_type": "markdown",
   "id": "b4ab4d29",
   "metadata": {},
   "source": [
    "## Fitting an LDA Model\n",
    "\n",
    "Finally, fit a five-topic LDA model using the count vectors (`count_text_vectors` from above). Display the results using `pyLDAvis.display` and describe what you learn from that visualization. "
   ]
  },
  {
   "cell_type": "code",
   "execution_count": 28,
   "id": "802cb8ff",
   "metadata": {},
   "outputs": [],
   "source": [
    "# Fit your LDA model here\n",
    "lda_para_model = LatentDirichletAllocation(n_components = 5, random_state=42)\n",
    "W_LDA_para_matrix = lda_para_model.fit_transform(count_text_vectors)\n",
    "H_LDA_para_matrix = lda_para_model.components_"
   ]
  },
  {
   "cell_type": "code",
   "execution_count": 29,
   "id": "ab18adf5",
   "metadata": {},
   "outputs": [
    {
     "name": "stdout",
     "output_type": "stream",
     "text": [
      "\n",
      "Topic 00\n",
      "  home (0.46)\n",
      "  right (0.35)\n",
      "  game (0.35)\n",
      "  way (0.34)\n",
      "  set (0.34)\n",
      "\n",
      "Topic 01\n",
      "  state (0.89)\n",
      "  development (0.57)\n",
      "  states (0.51)\n",
      "  program (0.46)\n",
      "  use (0.44)\n",
      "\n",
      "Topic 02\n",
      "  said (0.93)\n",
      "  mr (0.73)\n",
      "  president (0.63)\n",
      "  state (0.49)\n",
      "  mrs (0.48)\n",
      "\n",
      "Topic 03\n",
      "  feed (0.90)\n",
      "  general (0.73)\n",
      "  business (0.70)\n",
      "  property (0.69)\n",
      "  shall (0.67)\n",
      "\n",
      "Topic 04\n",
      "  said (1.56)\n",
      "  man (0.62)\n",
      "  little (0.62)\n",
      "  old (0.59)\n",
      "  good (0.53)\n"
     ]
    }
   ],
   "source": [
    "# Call `display_topics` on your fitted model here\n",
    "display_topics(lda_para_model, tfidf_text_vectorizer.get_feature_names_out())"
   ]
  },
  {
   "cell_type": "code",
   "execution_count": 31,
   "id": "1e27c4bd-e4e0-420b-b821-c6871b41fa2d",
   "metadata": {},
   "outputs": [
    {
     "data": {
      "image/png": "[encoded data removed]",
      "text/plain": [
       "<Figure size 640x480 with 1 Axes>"
      ]
     },
     "metadata": {},
     "output_type": "display_data"
    },
    {
     "name": "stdout",
     "output_type": "stream",
     "text": [
      "              precision    recall  f1-score   support\n",
      "\n",
      "   editorial       0.11      0.11      0.11        27\n",
      "  government       0.53      0.67      0.59        30\n",
      "     hobbies       0.06      0.06      0.06        36\n",
      "        news       0.55      0.70      0.62        44\n",
      "     romance       0.00      0.00      0.00        29\n",
      "\n",
      "    accuracy                           0.34       166\n",
      "   macro avg       0.25      0.31      0.28       166\n",
      "weighted avg       0.27      0.34      0.30       166\n",
      "\n"
     ]
    }
   ],
   "source": [
    "\n",
    "LDA_predicted_topics = W_LDA_para_matrix.argmax(axis=1)\n",
    "\n",
    "# create a new column in the df for the predicted categories\n",
    "df['LDA_predicted_category'] = [topic_category_mapping[idx] for idx in LDA_predicted_topics]\n",
    "\n",
    "# get unique category counts for actual and LDA predicted categories\n",
    "category_counts = df['category'].value_counts()\n",
    "LDA_predicted_category_counts = df['LDA_predicted_category'].value_counts()\n",
    "\n",
    "LDA_actual_counts = pd.DataFrame({\n",
    "    'category': category_counts,\n",
    "    'LDA_predicted_category': LDA_predicted_category_counts\n",
    "})\n",
    "\n",
    "# convert LDA prediction column to integer and fill null values with 0\n",
    "LDA_actual_counts['LDA_predicted_category'] = LDA_actual_counts['LDA_predicted_category'].fillna(0).astype(int)\n",
    "\n",
    "\n",
    "# investigate value counts of actual and distributed\n",
    "LDA_actual_counts\n",
    "\n",
    "# extract actual and predicted results for comparison\n",
    "actual_category = df['category'].astype(str)\n",
    "LDA_predicted_category = df['LDA_predicted_category'].astype(str)\n",
    "# sort labels for our confusion matrix\n",
    "actual_labels_sorted = np.sort(actual_category.unique())\n",
    "\n",
    "# generate confusion matrix, convert to dataframe for visualization\n",
    "conf_matrix = confusion_matrix(actual_category, LDA_predicted_category)\n",
    "conf_matrix_df = pd.DataFrame(conf_matrix, index=actual_labels_sorted, columns=actual_labels_sorted)\n",
    "\n",
    "# plot confusion matrix\n",
    "conf_matrix_df['Total'] = conf_matrix_df.sum(axis=1)\n",
    "conf_matrix_df.loc['Total'] = conf_matrix_df.sum(axis=0)\n",
    "sns.heatmap(conf_matrix_df, annot=True, fmt='d', cmap=custom_cmap, cbar=False)\n",
    "plt.xlabel('LDA Predicted Category')\n",
    "plt.ylabel('Actual Category')\n",
    "plt.title('Confusion Matrix - LDA Model')\n",
    "plt.show()\n",
    "\n",
    "conf_matrix\n",
    "\n",
    "# generate classification report\n",
    "print(classification_report(actual_category, LDA_predicted_category))"
   ]
  },
  {
   "attachments": {},
   "cell_type": "markdown",
   "id": "f2c67876",
   "metadata": {},
   "source": [
    "Q: What inference do you draw from the displayed topics for your LDA model? \n",
    "\n",
    "A: The topics seem to be more distinct than in the previous LSA model. However, there are still overlapping words: 'state' is found in both topic 1 and topic 2. Additionally, 'said' has the most weight in topics 2 and 4. \n",
    "* Topic 0: Seems to do with sports\n",
    "* Topic 1: Has to do with development and states. 'State' and 'states' are both components; pre-processing the text could clean this up\n",
    "* Topic 2: Has to do with president, formal titles\n",
    "* Topic 3: Has to do more with different sectors\n",
    "* Topic 4: Contains more words that could be used to describe man\n",
    "\n",
    "Q: Repeat the tallying of Brown categories within your topics. How does your five-topic LDA model compare to the original Brown categories? \n",
    "\n",
    "A: The LDA model performs at 34%, better than baseline model* of 26.5%. It performs best in predicting files as 'government' and 'news' correctly, and has the worst performance on 'hobbies' and 'romance' categories.\n",
    "* Assumes that baseline efficiency (26.5%) is where the model would predict each file to belong to the top class."
   ]
  },
  {
   "cell_type": "code",
   "execution_count": 32,
   "id": "6aae75ca",
   "metadata": {},
   "outputs": [
    {
     "ename": "NameError",
     "evalue": "name 'pyLDAvis' is not defined",
     "output_type": "error",
     "traceback": [
      "\u001b[0;31m---------------------------------------------------------------------------\u001b[0m",
      "\u001b[0;31mNameError\u001b[0m                                 Traceback (most recent call last)",
      "Cell \u001b[0;32mIn[32], line 1\u001b[0m\n\u001b[0;32m----> 1\u001b[0m lda_display \u001b[38;5;241m=\u001b[39m \u001b[43mpyLDAvis\u001b[49m\u001b[38;5;241m.\u001b[39mlda_model\u001b[38;5;241m.\u001b[39mprepare(lda_text_model, count_text_vectors, count_text_vectorizer, sort_topics\u001b[38;5;241m=\u001b[39m\u001b[38;5;28;01mFalse\u001b[39;00m)\n",
      "\u001b[0;31mNameError\u001b[0m: name 'pyLDAvis' is not defined"
     ]
    }
   ],
   "source": [
    "lda_display = pyLDAvis.lda_model.prepare(lda_text_model, count_text_vectors, count_text_vectorizer, sort_topics=False)"
   ]
  },
  {
   "cell_type": "code",
   "execution_count": null,
   "id": "2a89fc15",
   "metadata": {},
   "outputs": [],
   "source": [
    "pyLDAvis.display(lda_display)"
   ]
  },
  {
   "attachments": {},
   "cell_type": "markdown",
   "id": "a3d14c87",
   "metadata": {},
   "source": [
    "Q: What conclusions do you draw from the visualization above? Please address the principal component scatterplot and the salient terms graph.\n",
    "\n",
    "A: <!-- Your answer here --> \n",
    "\n"
   ]
  }
 ],
 "metadata": {
  "kernelspec": {
   "display_name": "Python 3 (ipykernel)",
   "language": "python",
   "name": "python3"
  },
  "language_info": {
   "codemirror_mode": {
    "name": "ipython",
    "version": 3
   },
   "file_extension": ".py",
   "mimetype": "text/x-python",
   "name": "python",
   "nbconvert_exporter": "python",
   "pygments_lexer": "ipython3",
   "version": "3.8.8"
  }
 },
 "nbformat": 4,
 "nbformat_minor": 5
}
